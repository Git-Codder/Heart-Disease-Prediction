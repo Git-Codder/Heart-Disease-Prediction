{
  "nbformat": 4,
  "nbformat_minor": 0,
  "metadata": {
    "colab": {
      "name": "HeartDiseasePrediction.ipynb",
      "provenance": [],
      "collapsed_sections": [
        "e0m-cw5ROnf3",
        "pCLwkyFbxYuD",
        "NvUGC8QQV6bV",
        "fhYaZ-ENV_c5",
        "yC57qFuwyABq",
        "k1qBzJZBmhgv",
        "6ehzjn5mAzb3",
        "I5gzuSeEBaUD",
        "eTWXDkb3yGMo",
        "bhuw9_-rDFIT",
        "0CiriUq01Upe",
        "ULqNvUwZ8_re",
        "lpjvM6oOxL4P",
        "WtyC_xLvDJkd",
        "3abSxRqvWEIB",
        "TpGqbS4TqkIR",
        "uzbXgfbcZvf3",
        "5kpIh9_oPFQB",
        "bb6jCOCQiAmP",
        "h4Hwj34ziWQW",
        "vRzdnr32l6Zw",
        "EWT-DJqRqQwz",
        "S-oebIh0qQw7",
        "befCQ1yWrwmr",
        "4UPnL92VPovB",
        "nso8wkP7t-vn",
        "ov8NGesmt-vq",
        "TXBk-ZLTuG-9",
        "DXfNF2BzPX3I",
        "Gw5tohwmsFli",
        "UZ3315XTsFlp",
        "DyhASaxEsjF9",
        "RL3CbDhxnQVv",
        "0g8yKYPKs3EX",
        "zdpvDrGFs3Ef",
        "9FyVDgOrtG8h",
        "_ROcqqwdPo3H",
        "Ysn6HpkHurkq",
        "se1oCdzOurky",
        "2U-gm9i3u0PB",
        "pTeGzopCPpMZ",
        "pyhjII96vMUa",
        "f86hAT-CvMUk",
        "HqPB_gc7vD5L",
        "wTImwaxUb8t9",
        "X-fc3dOacRnq",
        "xGBg2_ApCZnz",
        "cm1-yNGycJJF",
        "foPXyGOYx8nn",
        "VpydfhZ7ySq8"
      ],
      "authorship_tag": "ABX9TyM9YHEfmcVYkx2GqjLwkAxj",
      "include_colab_link": true
    },
    "kernelspec": {
      "name": "python3",
      "display_name": "Python 3"
    }
  },
  "cells": [
    {
      "cell_type": "markdown",
      "metadata": {
        "id": "view-in-github",
        "colab_type": "text"
      },
      "source": [
        "<a href=\"https://colab.research.google.com/github/Git-Codder/Heart-Disease-Prediction/blob/main/HeartDiseasePrediction.ipynb\" target=\"_parent\"><img src=\"https://colab.research.google.com/assets/colab-badge.svg\" alt=\"Open In Colab\"/></a>"
      ]
    },
    {
      "cell_type": "markdown",
      "metadata": {
        "id": "3aSbTK_8OXDU"
      },
      "source": [
        "# <font color='Moderate'> Heart Disease Prediction Machine Learning Project"
      ]
    },
    {
      "cell_type": "markdown",
      "metadata": {
        "id": "e0m-cw5ROnf3"
      },
      "source": [
        "# <font color='Red'> Data Preprocessing (Data Science Part)\n",
        "\n",
        "---\n",
        "\n"
      ]
    },
    {
      "cell_type": "markdown",
      "metadata": {
        "id": "pCLwkyFbxYuD"
      },
      "source": [
        "## Initial Processing"
      ]
    },
    {
      "cell_type": "markdown",
      "metadata": {
        "id": "NvUGC8QQV6bV"
      },
      "source": [
        "### Importing the libraries"
      ]
    },
    {
      "cell_type": "code",
      "metadata": {
        "id": "wfFEXZC0WS-V"
      },
      "source": [
        "import numpy as np\n",
        "import matplotlib.pyplot as plt\n",
        "import pandas as pd\n",
        "import itertools"
      ],
      "execution_count": 404,
      "outputs": []
    },
    {
      "cell_type": "markdown",
      "metadata": {
        "id": "fhYaZ-ENV_c5"
      },
      "source": [
        "### Importing the Datasets"
      ]
    },
    {
      "cell_type": "code",
      "metadata": {
        "id": "aqHTg9bxWT_u"
      },
      "source": [
        "df = pd.read_csv('heart.csv')"
      ],
      "execution_count": 405,
      "outputs": []
    },
    {
      "cell_type": "markdown",
      "metadata": {
        "id": "yC57qFuwyABq"
      },
      "source": [
        "## Data Visualization"
      ]
    },
    {
      "cell_type": "markdown",
      "metadata": {
        "id": "k1qBzJZBmhgv"
      },
      "source": [
        "### To visualise and read the dataset \n",
        "\n",
        "To know more -> [Click Here](https://datacarpentry.org/python-ecology-lesson/02-starting-with-data/index.html)\n"
      ]
    },
    {
      "cell_type": "code",
      "metadata": {
        "id": "RNgGxAw9hZaI"
      },
      "source": [
        "#Function to Print the value together\n",
        "def countUniqType(dataset) :\n",
        "  dataList = []\n",
        "  colName = list(dataset.columns.values)\n",
        "  for i in colName : \n",
        "    temp = []\n",
        "    temp = [i,dataset[i].nunique(),dataset[i].isnull().sum(),dataset[i].dtypes]\n",
        "    dataList.append(temp)\n",
        "\n",
        "  #changing 2-d list to dataframe\n",
        "  df_data = pd.DataFrame(dataList)\n",
        "  # df_data = df_data.transpose()\n",
        "  df_data.columns = [\"Column Name\", \"Unique Value \", \"Missing Value\", \"Data Type\"]\n",
        "  print(df_data)\n",
        "\n",
        "  return \n",
        "\n",
        "#function for read and analysis the dataset\n",
        "def read_and_analysis(data) :\n",
        "  print(\" Data : \")\n",
        "  print(data.head())\n",
        "  print()\n",
        "  print(40 * '*')\n",
        "  print(\"Data Shape : \",data.shape)\n",
        "  print()\n",
        "  print(40 * '*')\n",
        "  print()\n",
        "  print(40 * '*')\n",
        "  \n",
        "  return "
      ],
      "execution_count": 406,
      "outputs": []
    },
    {
      "cell_type": "code",
      "metadata": {
        "colab": {
          "base_uri": "https://localhost:8080/"
        },
        "id": "K2atz8spnq9-",
        "outputId": "9b273f9e-1c38-47ce-d8ef-7ae44d7b1fdb"
      },
      "source": [
        "read_and_analysis(df)\n",
        "countUniqType(df)\n",
        "# print(df.values)"
      ],
      "execution_count": 407,
      "outputs": [
        {
          "output_type": "stream",
          "text": [
            " Data : \n",
            "   age  sex  cp  trestbps  chol  fbs  ...  exang  oldpeak  slope  ca  thal  target\n",
            "0   52    1   0       125   212    0  ...      0      1.0      2   2     3       0\n",
            "1   53    1   0       140   203    1  ...      1      3.1      0   0     3       0\n",
            "2   70    1   0       145   174    0  ...      1      2.6      0   0     3       0\n",
            "3   61    1   0       148   203    0  ...      0      0.0      2   1     3       0\n",
            "4   62    0   0       138   294    1  ...      0      1.9      1   3     2       0\n",
            "\n",
            "[5 rows x 14 columns]\n",
            "\n",
            "****************************************\n",
            "Data Shape :  (1025, 14)\n",
            "\n",
            "****************************************\n",
            "\n",
            "****************************************\n",
            "   Column Name  Unique Value   Missing Value Data Type\n",
            "0          age             41              0     int64\n",
            "1          sex              2              0     int64\n",
            "2           cp              4              0     int64\n",
            "3     trestbps             49              0     int64\n",
            "4         chol            152              0     int64\n",
            "5          fbs              2              0     int64\n",
            "6      restecg              3              0     int64\n",
            "7      thalach             91              0     int64\n",
            "8        exang              2              0     int64\n",
            "9      oldpeak             40              0   float64\n",
            "10       slope              3              0     int64\n",
            "11          ca              5              0     int64\n",
            "12        thal              4              0     int64\n",
            "13      target              2              0     int64\n"
          ],
          "name": "stdout"
        }
      ]
    },
    {
      "cell_type": "markdown",
      "metadata": {
        "id": "6ehzjn5mAzb3"
      },
      "source": [
        "### Functions\n",
        "\n"
      ]
    },
    {
      "cell_type": "markdown",
      "metadata": {
        "id": "I5gzuSeEBaUD"
      },
      "source": [
        "#### Function for Print Confusion Matrics\n",
        "To know more -> [Click Here](http://scikit-learn.org/stable/auto_examples/model_selection/plot_confusion_matrix.html)\n"
      ]
    },
    {
      "cell_type": "code",
      "metadata": {
        "id": "jsolSBKQBt9B"
      },
      "source": [
        "def plot_confusion_matrix(cm, classes, normalize=False,title='Confusion matrix',cmap=plt.cm.Blues):\n",
        "    \"\"\"\n",
        "    See full source and example: \n",
        "    http://scikit-learn.org/stable/auto_examples/model_selection/plot_confusion_matrix.html\n",
        "    \n",
        "    This function prints and plots the confusion matrix.\n",
        "    Normalization can be applied by setting `normalize=True`.\n",
        "    \"\"\"\n",
        "    plt.imshow(cm, interpolation='nearest', cmap=cmap)\n",
        "    plt.title(title)\n",
        "    plt.colorbar()\n",
        "    tick_marks = np.arange(len(classes))\n",
        "    plt.xticks(tick_marks, classes, rotation=45)\n",
        "    plt.yticks(tick_marks, classes)\n",
        "\n",
        "    if normalize:\n",
        "        cm = cm.astype('float') / cm.sum(axis=1)[:, np.newaxis]\n",
        "        print(\"Normalized confusion matrix\")\n",
        "    else:\n",
        "        print('Confusion matrix, without normalization')\n",
        "\n",
        "    thresh = cm.max() / 2.\n",
        "    for i, j in itertools.product(range(cm.shape[0]), range(cm.shape[1])):\n",
        "        plt.text(j, i, cm[i, j],\n",
        "                 horizontalalignment=\"center\",\n",
        "                 color=\"white\" if cm[i, j] > thresh else \"black\")\n",
        "\n",
        "    plt.show()\n",
        "    plt.ylabel('True label')\n",
        "    plt.xlabel('Predicted label')\n",
        "    return\n",
        "\n",
        "\n",
        "# To Call the Function\n",
        "# plot_confusion_matrix(cm, classes=['FirstClass', 'SecondClass'])"
      ],
      "execution_count": 408,
      "outputs": []
    },
    {
      "cell_type": "markdown",
      "metadata": {
        "id": "eTWXDkb3yGMo"
      },
      "source": [
        "## Data Handling"
      ]
    },
    {
      "cell_type": "markdown",
      "metadata": {
        "id": "bhuw9_-rDFIT"
      },
      "source": [
        "### droping coulumns (Using unique value strategy) (May be a Bad Stratgey)"
      ]
    },
    {
      "cell_type": "code",
      "metadata": {
        "id": "0Mc05iM_qAaU"
      },
      "source": [
        "# Function to drop the column which has unique value less than 1% of the datset row\n",
        "def dropByuniqu(dataset) : \n",
        "  colName = list(dataset.columns.values)\n",
        "  onepercent = (dataset.shape[0])//100;\n",
        "  for i in colName : \n",
        "    if(dataset[i].nunique() < onepercent) : \n",
        "      dataset.drop(i,axis=1,inplace=True)\n",
        "\n",
        "  return \n",
        "\n",
        "# Function to drop the columns which has missing value greter than 99% of the dataset row_count\n",
        "def dropBymissing(dataset) : \n",
        "  colName = list(dataset.columns.values)\n",
        "  ninetyninepercent = (dataset.shape[0]*99)//100;\n",
        "  for i in colName : \n",
        "    if(dataset[i].isnull().sum() > ninetyninepercent) : \n",
        "      dataset.drop(i,axis=1,inplace=True)\n",
        "\n",
        "  return \n"
      ],
      "execution_count": 409,
      "outputs": []
    },
    {
      "cell_type": "code",
      "metadata": {
        "colab": {
          "base_uri": "https://localhost:8080/"
        },
        "id": "d_XgM8hTyYkX",
        "outputId": "e05275e2-3252-4167-ae68-cff33e6f494c"
      },
      "source": [
        "dropBymissing(df)\n",
        "\n",
        "#drop country column (It does not have any impact on Life Expectancy)\n",
        "# df.drop('Country',axis=1,inplace=True)\n",
        "\n",
        "print(df.shape)\n",
        "print(df.dtypes)"
      ],
      "execution_count": 410,
      "outputs": [
        {
          "output_type": "stream",
          "text": [
            "(1025, 14)\n",
            "age           int64\n",
            "sex           int64\n",
            "cp            int64\n",
            "trestbps      int64\n",
            "chol          int64\n",
            "fbs           int64\n",
            "restecg       int64\n",
            "thalach       int64\n",
            "exang         int64\n",
            "oldpeak     float64\n",
            "slope         int64\n",
            "ca            int64\n",
            "thal          int64\n",
            "target        int64\n",
            "dtype: object\n"
          ],
          "name": "stdout"
        }
      ]
    },
    {
      "cell_type": "markdown",
      "metadata": {
        "id": "0CiriUq01Upe"
      },
      "source": [
        "### Encoding DataFrame "
      ]
    },
    {
      "cell_type": "code",
      "metadata": {
        "id": "3bGD_Z3B02gn"
      },
      "source": [
        "# def encode_and_bind(original_dataframe, feature_to_encode):\n",
        "#   dummies = pd.get_dummies(original_dataframe[[feature_to_encode]])\n",
        "#   original_dataframe.drop(feature_to_encode,axis=1,inplace=True)\n",
        "#   res = pd.concat([original_dataframe, dummies], axis=1)\n",
        "#   return(res)\n",
        "  \n",
        "# df = encode_and_bind(df,'Status')"
      ],
      "execution_count": 411,
      "outputs": []
    },
    {
      "cell_type": "code",
      "metadata": {
        "id": "LMexzbTDw_Zb",
        "colab": {
          "base_uri": "https://localhost:8080/",
          "height": 0
        },
        "outputId": "05bf4983-3cef-409e-d100-45d8ad8faa02"
      },
      "source": [
        "df.head()"
      ],
      "execution_count": 412,
      "outputs": [
        {
          "output_type": "execute_result",
          "data": {
            "text/html": [
              "<div>\n",
              "<style scoped>\n",
              "    .dataframe tbody tr th:only-of-type {\n",
              "        vertical-align: middle;\n",
              "    }\n",
              "\n",
              "    .dataframe tbody tr th {\n",
              "        vertical-align: top;\n",
              "    }\n",
              "\n",
              "    .dataframe thead th {\n",
              "        text-align: right;\n",
              "    }\n",
              "</style>\n",
              "<table border=\"1\" class=\"dataframe\">\n",
              "  <thead>\n",
              "    <tr style=\"text-align: right;\">\n",
              "      <th></th>\n",
              "      <th>age</th>\n",
              "      <th>sex</th>\n",
              "      <th>cp</th>\n",
              "      <th>trestbps</th>\n",
              "      <th>chol</th>\n",
              "      <th>fbs</th>\n",
              "      <th>restecg</th>\n",
              "      <th>thalach</th>\n",
              "      <th>exang</th>\n",
              "      <th>oldpeak</th>\n",
              "      <th>slope</th>\n",
              "      <th>ca</th>\n",
              "      <th>thal</th>\n",
              "      <th>target</th>\n",
              "    </tr>\n",
              "  </thead>\n",
              "  <tbody>\n",
              "    <tr>\n",
              "      <th>0</th>\n",
              "      <td>52</td>\n",
              "      <td>1</td>\n",
              "      <td>0</td>\n",
              "      <td>125</td>\n",
              "      <td>212</td>\n",
              "      <td>0</td>\n",
              "      <td>1</td>\n",
              "      <td>168</td>\n",
              "      <td>0</td>\n",
              "      <td>1.0</td>\n",
              "      <td>2</td>\n",
              "      <td>2</td>\n",
              "      <td>3</td>\n",
              "      <td>0</td>\n",
              "    </tr>\n",
              "    <tr>\n",
              "      <th>1</th>\n",
              "      <td>53</td>\n",
              "      <td>1</td>\n",
              "      <td>0</td>\n",
              "      <td>140</td>\n",
              "      <td>203</td>\n",
              "      <td>1</td>\n",
              "      <td>0</td>\n",
              "      <td>155</td>\n",
              "      <td>1</td>\n",
              "      <td>3.1</td>\n",
              "      <td>0</td>\n",
              "      <td>0</td>\n",
              "      <td>3</td>\n",
              "      <td>0</td>\n",
              "    </tr>\n",
              "    <tr>\n",
              "      <th>2</th>\n",
              "      <td>70</td>\n",
              "      <td>1</td>\n",
              "      <td>0</td>\n",
              "      <td>145</td>\n",
              "      <td>174</td>\n",
              "      <td>0</td>\n",
              "      <td>1</td>\n",
              "      <td>125</td>\n",
              "      <td>1</td>\n",
              "      <td>2.6</td>\n",
              "      <td>0</td>\n",
              "      <td>0</td>\n",
              "      <td>3</td>\n",
              "      <td>0</td>\n",
              "    </tr>\n",
              "    <tr>\n",
              "      <th>3</th>\n",
              "      <td>61</td>\n",
              "      <td>1</td>\n",
              "      <td>0</td>\n",
              "      <td>148</td>\n",
              "      <td>203</td>\n",
              "      <td>0</td>\n",
              "      <td>1</td>\n",
              "      <td>161</td>\n",
              "      <td>0</td>\n",
              "      <td>0.0</td>\n",
              "      <td>2</td>\n",
              "      <td>1</td>\n",
              "      <td>3</td>\n",
              "      <td>0</td>\n",
              "    </tr>\n",
              "    <tr>\n",
              "      <th>4</th>\n",
              "      <td>62</td>\n",
              "      <td>0</td>\n",
              "      <td>0</td>\n",
              "      <td>138</td>\n",
              "      <td>294</td>\n",
              "      <td>1</td>\n",
              "      <td>1</td>\n",
              "      <td>106</td>\n",
              "      <td>0</td>\n",
              "      <td>1.9</td>\n",
              "      <td>1</td>\n",
              "      <td>3</td>\n",
              "      <td>2</td>\n",
              "      <td>0</td>\n",
              "    </tr>\n",
              "  </tbody>\n",
              "</table>\n",
              "</div>"
            ],
            "text/plain": [
              "   age  sex  cp  trestbps  chol  fbs  ...  exang  oldpeak  slope  ca  thal  target\n",
              "0   52    1   0       125   212    0  ...      0      1.0      2   2     3       0\n",
              "1   53    1   0       140   203    1  ...      1      3.1      0   0     3       0\n",
              "2   70    1   0       145   174    0  ...      1      2.6      0   0     3       0\n",
              "3   61    1   0       148   203    0  ...      0      0.0      2   1     3       0\n",
              "4   62    0   0       138   294    1  ...      0      1.9      1   3     2       0\n",
              "\n",
              "[5 rows x 14 columns]"
            ]
          },
          "metadata": {
            "tags": []
          },
          "execution_count": 412
        }
      ]
    },
    {
      "cell_type": "markdown",
      "metadata": {
        "id": "ULqNvUwZ8_re"
      },
      "source": [
        "### Handling missing values in Dataset \n",
        "\n",
        "To know more about missing values handling -> [Click Here](https://towardsdatascience.com/data-cleaning-with-python-and-pandas-detecting-missing-values-3e9c6ebcf78b) \n"
      ]
    },
    {
      "cell_type": "code",
      "metadata": {
        "id": "PfNmGu5f9IJ6",
        "colab": {
          "base_uri": "https://localhost:8080/"
        },
        "outputId": "bdf7b14b-07cd-4d67-c0d7-f7efd4d02d8d"
      },
      "source": [
        "from sklearn.impute import KNNImputer\n",
        "\n",
        "imputer = KNNImputer(n_neighbors=5)\n",
        "df = pd.DataFrame(imputer.fit_transform(df),columns = df.columns)\n",
        "df.isnull().sum()"
      ],
      "execution_count": 413,
      "outputs": [
        {
          "output_type": "execute_result",
          "data": {
            "text/plain": [
              "age         0\n",
              "sex         0\n",
              "cp          0\n",
              "trestbps    0\n",
              "chol        0\n",
              "fbs         0\n",
              "restecg     0\n",
              "thalach     0\n",
              "exang       0\n",
              "oldpeak     0\n",
              "slope       0\n",
              "ca          0\n",
              "thal        0\n",
              "target      0\n",
              "dtype: int64"
            ]
          },
          "metadata": {
            "tags": []
          },
          "execution_count": 413
        }
      ]
    },
    {
      "cell_type": "markdown",
      "metadata": {
        "id": "lpjvM6oOxL4P"
      },
      "source": [
        "## Data Spliting "
      ]
    },
    {
      "cell_type": "markdown",
      "metadata": {
        "id": "WtyC_xLvDJkd"
      },
      "source": [
        "### spliting data in dependent variable and independent variable"
      ]
    },
    {
      "cell_type": "code",
      "metadata": {
        "id": "uokmn7OiDS00"
      },
      "source": [
        "x = df.iloc[:,df.columns != 'target'].values\n",
        "y = df.iloc[:,df.columns == 'target'].values\n"
      ],
      "execution_count": 414,
      "outputs": []
    },
    {
      "cell_type": "code",
      "metadata": {
        "id": "hCsz2yCebe1R",
        "colab": {
          "base_uri": "https://localhost:8080/"
        },
        "outputId": "0478f801-459f-4b95-83c9-0787b446d4c6"
      },
      "source": [
        "print(x)"
      ],
      "execution_count": 415,
      "outputs": [
        {
          "output_type": "stream",
          "text": [
            "[[52.  1.  0. ...  2.  2.  3.]\n",
            " [53.  1.  0. ...  0.  0.  3.]\n",
            " [70.  1.  0. ...  0.  0.  3.]\n",
            " ...\n",
            " [47.  1.  0. ...  1.  1.  2.]\n",
            " [50.  0.  0. ...  2.  0.  2.]\n",
            " [54.  1.  0. ...  1.  1.  3.]]\n"
          ],
          "name": "stdout"
        }
      ]
    },
    {
      "cell_type": "code",
      "metadata": {
        "id": "eYrOQ43XcJR3",
        "colab": {
          "base_uri": "https://localhost:8080/"
        },
        "outputId": "253d6d78-1c66-469d-a16a-975c7cb02901"
      },
      "source": [
        "print(y)"
      ],
      "execution_count": 416,
      "outputs": [
        {
          "output_type": "stream",
          "text": [
            "[[0.]\n",
            " [0.]\n",
            " [0.]\n",
            " ...\n",
            " [0.]\n",
            " [1.]\n",
            " [0.]]\n"
          ],
          "name": "stdout"
        }
      ]
    },
    {
      "cell_type": "markdown",
      "metadata": {
        "id": "3abSxRqvWEIB"
      },
      "source": [
        "### Splitting the dataset into the Training set and Test set"
      ]
    },
    {
      "cell_type": "code",
      "metadata": {
        "id": "9p0AQ2mVCyrL"
      },
      "source": [
        "from sklearn.model_selection import train_test_split\n",
        "\n",
        "x_train, x_test, y_train, y_test = train_test_split(x, y, test_size = 0.22, random_state = 1)"
      ],
      "execution_count": 417,
      "outputs": []
    },
    {
      "cell_type": "markdown",
      "metadata": {
        "id": "TpGqbS4TqkIR"
      },
      "source": [
        "### Feature Scaling"
      ]
    },
    {
      "cell_type": "code",
      "metadata": {
        "id": "Jir_SPT9qT1g"
      },
      "source": [
        "from sklearn.preprocessing import StandardScaler\n",
        "sc = StandardScaler()\n",
        "x_train_scaled = sc.fit_transform(x_train)\n",
        "x_test_scaled = sc.transform(x_test)"
      ],
      "execution_count": 418,
      "outputs": []
    },
    {
      "cell_type": "code",
      "metadata": {
        "id": "AxjSUXFQqo-3",
        "colab": {
          "base_uri": "https://localhost:8080/"
        },
        "outputId": "794114b7-1a1d-4e58-8509-578c290faa63"
      },
      "source": [
        "df.max()"
      ],
      "execution_count": 419,
      "outputs": [
        {
          "output_type": "execute_result",
          "data": {
            "text/plain": [
              "age          77.0\n",
              "sex           1.0\n",
              "cp            3.0\n",
              "trestbps    200.0\n",
              "chol        564.0\n",
              "fbs           1.0\n",
              "restecg       2.0\n",
              "thalach     202.0\n",
              "exang         1.0\n",
              "oldpeak       6.2\n",
              "slope         2.0\n",
              "ca            4.0\n",
              "thal          3.0\n",
              "target        1.0\n",
              "dtype: float64"
            ]
          },
          "metadata": {
            "tags": []
          },
          "execution_count": 419
        }
      ]
    },
    {
      "cell_type": "code",
      "metadata": {
        "colab": {
          "base_uri": "https://localhost:8080/"
        },
        "id": "9xG8ho29J1up",
        "outputId": "55dd9272-5991-4f8a-e953-fd27491a2f4c"
      },
      "source": [
        "df.min()"
      ],
      "execution_count": 420,
      "outputs": [
        {
          "output_type": "execute_result",
          "data": {
            "text/plain": [
              "age          29.0\n",
              "sex           0.0\n",
              "cp            0.0\n",
              "trestbps     94.0\n",
              "chol        126.0\n",
              "fbs           0.0\n",
              "restecg       0.0\n",
              "thalach      71.0\n",
              "exang         0.0\n",
              "oldpeak       0.0\n",
              "slope         0.0\n",
              "ca            0.0\n",
              "thal          0.0\n",
              "target        0.0\n",
              "dtype: float64"
            ]
          },
          "metadata": {
            "tags": []
          },
          "execution_count": 420
        }
      ]
    },
    {
      "cell_type": "markdown",
      "metadata": {
        "id": "CaxG9oCqKlQg"
      },
      "source": [
        "***Note*** : here feature scaling does not require cause it has diverse range all of the column not impact of a single feature(Column)"
      ]
    },
    {
      "cell_type": "markdown",
      "metadata": {
        "id": "uzbXgfbcZvf3"
      },
      "source": [
        "# <font color='Blue'> Classification Model Processing\n",
        "\n",
        "\n",
        "---\n",
        "\n"
      ]
    },
    {
      "cell_type": "code",
      "metadata": {
        "id": "r8klf-ztalDr"
      },
      "source": [
        "# List to Store all Model r_square value\n",
        "\n",
        "modelPerformance = [] \n",
        "confusionMatrices = [];"
      ],
      "execution_count": 421,
      "outputs": []
    },
    {
      "cell_type": "markdown",
      "metadata": {
        "id": "5kpIh9_oPFQB"
      },
      "source": [
        "## <font color='violate'> ***Logistic Regression***\n"
      ]
    },
    {
      "cell_type": "markdown",
      "metadata": {
        "id": "bb6jCOCQiAmP"
      },
      "source": [
        "### Training the Logistic Regression model on the Training set"
      ]
    },
    {
      "cell_type": "code",
      "metadata": {
        "id": "e0pFVAmciHQs",
        "colab": {
          "base_uri": "https://localhost:8080/"
        },
        "outputId": "a2031197-258f-4dc7-bdaf-7426347b9ba4"
      },
      "source": [
        "from sklearn.linear_model import LogisticRegression\n",
        "classifier = LogisticRegression(random_state = 0)\n",
        "classifier.fit(x_train_scaled, y_train)"
      ],
      "execution_count": 422,
      "outputs": [
        {
          "output_type": "stream",
          "text": [
            "/usr/local/lib/python3.6/dist-packages/sklearn/utils/validation.py:760: DataConversionWarning: A column-vector y was passed when a 1d array was expected. Please change the shape of y to (n_samples, ), for example using ravel().\n",
            "  y = column_or_1d(y, warn=True)\n"
          ],
          "name": "stderr"
        },
        {
          "output_type": "execute_result",
          "data": {
            "text/plain": [
              "LogisticRegression(C=1.0, class_weight=None, dual=False, fit_intercept=True,\n",
              "                   intercept_scaling=1, l1_ratio=None, max_iter=100,\n",
              "                   multi_class='auto', n_jobs=None, penalty='l2',\n",
              "                   random_state=0, solver='lbfgs', tol=0.0001, verbose=0,\n",
              "                   warm_start=False)"
            ]
          },
          "metadata": {
            "tags": []
          },
          "execution_count": 422
        }
      ]
    },
    {
      "cell_type": "markdown",
      "metadata": {
        "id": "h4Hwj34ziWQW"
      },
      "source": [
        "### Making the Confusion Matrix"
      ]
    },
    {
      "cell_type": "code",
      "metadata": {
        "id": "D6bpZwUiiXic"
      },
      "source": [
        "from sklearn.metrics import confusion_matrix, accuracy_score\n",
        "y_pred = classifier.predict(x_test_scaled)\n",
        "cm = confusion_matrix(y_test, y_pred)\n",
        "confusionMatrices.append(cm)"
      ],
      "execution_count": 423,
      "outputs": []
    },
    {
      "cell_type": "markdown",
      "metadata": {
        "id": "Fz1uTlWV919-"
      },
      "source": [
        "### Evaluating the Model Performance"
      ]
    },
    {
      "cell_type": "code",
      "metadata": {
        "id": "xvZQ_4W893-e"
      },
      "source": [
        "modelPerformance.append(accuracy_score(y_test, y_pred))"
      ],
      "execution_count": 424,
      "outputs": []
    },
    {
      "cell_type": "markdown",
      "metadata": {
        "id": "vRzdnr32l6Zw"
      },
      "source": [
        "## <font color='maroon'> ***K-NN Model (K Nearest Neighbours)*** **bold text**\n"
      ]
    },
    {
      "cell_type": "markdown",
      "metadata": {
        "id": "EWT-DJqRqQwz"
      },
      "source": [
        "### Training the K-NN model on the Training set"
      ]
    },
    {
      "cell_type": "code",
      "metadata": {
        "id": "dYdUpDKMqQw3",
        "colab": {
          "base_uri": "https://localhost:8080/"
        },
        "outputId": "abebbf35-3102-4431-f318-6f2666125b22"
      },
      "source": [
        "from sklearn.neighbors import KNeighborsClassifier\n",
        "classifier = KNeighborsClassifier(n_neighbors = 5, metric = 'minkowski', p = 2)\n",
        "classifier.fit(x_train_scaled, y_train)"
      ],
      "execution_count": 425,
      "outputs": [
        {
          "output_type": "stream",
          "text": [
            "/usr/local/lib/python3.6/dist-packages/ipykernel_launcher.py:3: DataConversionWarning: A column-vector y was passed when a 1d array was expected. Please change the shape of y to (n_samples, ), for example using ravel().\n",
            "  This is separate from the ipykernel package so we can avoid doing imports until\n"
          ],
          "name": "stderr"
        },
        {
          "output_type": "execute_result",
          "data": {
            "text/plain": [
              "KNeighborsClassifier(algorithm='auto', leaf_size=30, metric='minkowski',\n",
              "                     metric_params=None, n_jobs=None, n_neighbors=5, p=2,\n",
              "                     weights='uniform')"
            ]
          },
          "metadata": {
            "tags": []
          },
          "execution_count": 425
        }
      ]
    },
    {
      "cell_type": "markdown",
      "metadata": {
        "id": "S-oebIh0qQw7"
      },
      "source": [
        "### Making the Confusion Matrix"
      ]
    },
    {
      "cell_type": "code",
      "metadata": {
        "id": "j6xlJarjqQw-"
      },
      "source": [
        "from sklearn.metrics import confusion_matrix, accuracy_score\n",
        "y_pred = classifier.predict(x_test_scaled)\n",
        "cm = confusion_matrix(y_test, y_pred)\n",
        "confusionMatrices.append(cm)"
      ],
      "execution_count": 426,
      "outputs": []
    },
    {
      "cell_type": "markdown",
      "metadata": {
        "id": "befCQ1yWrwmr"
      },
      "source": [
        "### Evaluating the Model Performance"
      ]
    },
    {
      "cell_type": "code",
      "metadata": {
        "id": "Ziqm7IiFrwmt"
      },
      "source": [
        "modelPerformance.append(accuracy_score(y_test, y_pred))"
      ],
      "execution_count": 427,
      "outputs": []
    },
    {
      "cell_type": "markdown",
      "metadata": {
        "id": "4UPnL92VPovB"
      },
      "source": [
        "## <font color='Green'> ***Support Vector Classification*** "
      ]
    },
    {
      "cell_type": "markdown",
      "metadata": {
        "id": "nso8wkP7t-vn"
      },
      "source": [
        "### Training the SVM model on the Training set"
      ]
    },
    {
      "cell_type": "code",
      "metadata": {
        "colab": {
          "base_uri": "https://localhost:8080/"
        },
        "id": "1NjZn-qqt-vp",
        "outputId": "69cb7285-945b-4df5-d954-74c5e3e50a27"
      },
      "source": [
        "from sklearn.svm import SVC\n",
        "classifier = SVC(kernel = 'linear', random_state = 0)\n",
        "classifier.fit(x_train_scaled, y_train)"
      ],
      "execution_count": 428,
      "outputs": [
        {
          "output_type": "stream",
          "text": [
            "/usr/local/lib/python3.6/dist-packages/sklearn/utils/validation.py:760: DataConversionWarning: A column-vector y was passed when a 1d array was expected. Please change the shape of y to (n_samples, ), for example using ravel().\n",
            "  y = column_or_1d(y, warn=True)\n"
          ],
          "name": "stderr"
        },
        {
          "output_type": "execute_result",
          "data": {
            "text/plain": [
              "SVC(C=1.0, break_ties=False, cache_size=200, class_weight=None, coef0=0.0,\n",
              "    decision_function_shape='ovr', degree=3, gamma='scale', kernel='linear',\n",
              "    max_iter=-1, probability=False, random_state=0, shrinking=True, tol=0.001,\n",
              "    verbose=False)"
            ]
          },
          "metadata": {
            "tags": []
          },
          "execution_count": 428
        }
      ]
    },
    {
      "cell_type": "markdown",
      "metadata": {
        "id": "ov8NGesmt-vq"
      },
      "source": [
        "### Making the Confusion Matrix"
      ]
    },
    {
      "cell_type": "code",
      "metadata": {
        "id": "iinWIlGpt-vs"
      },
      "source": [
        "from sklearn.metrics import confusion_matrix, accuracy_score\n",
        "y_pred = classifier.predict(x_test_scaled)\n",
        "cm = confusion_matrix(y_test, y_pred)\n",
        "confusionMatrices.append(cm)"
      ],
      "execution_count": 429,
      "outputs": []
    },
    {
      "cell_type": "markdown",
      "metadata": {
        "id": "TXBk-ZLTuG-9"
      },
      "source": [
        "### Evaluating the Model Performance"
      ]
    },
    {
      "cell_type": "code",
      "metadata": {
        "id": "OnIZijPduG-_"
      },
      "source": [
        "modelPerformance.append(accuracy_score(y_test, y_pred))"
      ],
      "execution_count": 430,
      "outputs": []
    },
    {
      "cell_type": "markdown",
      "metadata": {
        "id": "DXfNF2BzPX3I"
      },
      "source": [
        "## <font color='Orange'> ***Naive Bays***"
      ]
    },
    {
      "cell_type": "markdown",
      "metadata": {
        "id": "Gw5tohwmsFli"
      },
      "source": [
        "### Training the Naive Bayes model on the Training set"
      ]
    },
    {
      "cell_type": "code",
      "metadata": {
        "id": "ceg9-YhBsFll",
        "colab": {
          "base_uri": "https://localhost:8080/"
        },
        "outputId": "c85c2434-711e-40be-ac86-a9a1822fc1c9"
      },
      "source": [
        "from sklearn.naive_bayes import GaussianNB\n",
        "classifier = GaussianNB()\n",
        "classifier.fit(x_train_scaled, y_train)"
      ],
      "execution_count": 431,
      "outputs": [
        {
          "output_type": "stream",
          "text": [
            "/usr/local/lib/python3.6/dist-packages/sklearn/naive_bayes.py:206: DataConversionWarning: A column-vector y was passed when a 1d array was expected. Please change the shape of y to (n_samples, ), for example using ravel().\n",
            "  y = column_or_1d(y, warn=True)\n"
          ],
          "name": "stderr"
        },
        {
          "output_type": "execute_result",
          "data": {
            "text/plain": [
              "GaussianNB(priors=None, var_smoothing=1e-09)"
            ]
          },
          "metadata": {
            "tags": []
          },
          "execution_count": 431
        }
      ]
    },
    {
      "cell_type": "markdown",
      "metadata": {
        "id": "UZ3315XTsFlp"
      },
      "source": [
        "### Making the Confusion Matrix"
      ]
    },
    {
      "cell_type": "code",
      "metadata": {
        "id": "XoeIFT2ksFls"
      },
      "source": [
        "from sklearn.metrics import confusion_matrix, accuracy_score\n",
        "y_pred = classifier.predict(x_test_scaled)\n",
        "cm = confusion_matrix(y_test, y_pred)\n",
        "confusionMatrices.append(cm)"
      ],
      "execution_count": 432,
      "outputs": []
    },
    {
      "cell_type": "markdown",
      "metadata": {
        "id": "DyhASaxEsjF9"
      },
      "source": [
        "### Evaluating the Model Performance"
      ]
    },
    {
      "cell_type": "code",
      "metadata": {
        "id": "Qr77KhUZsjGA"
      },
      "source": [
        "modelPerformance.append(accuracy_score(y_test, y_pred))"
      ],
      "execution_count": 433,
      "outputs": []
    },
    {
      "cell_type": "markdown",
      "metadata": {
        "id": "RL3CbDhxnQVv"
      },
      "source": [
        "## <font color='red'> ***Kernel SVM***"
      ]
    },
    {
      "cell_type": "markdown",
      "metadata": {
        "id": "0g8yKYPKs3EX"
      },
      "source": [
        "### Training the Kernel SVM model on the Training set"
      ]
    },
    {
      "cell_type": "code",
      "metadata": {
        "id": "qks87z6es3Ec",
        "colab": {
          "base_uri": "https://localhost:8080/"
        },
        "outputId": "b1d7d401-690f-49ed-fe5c-a32f545e0f22"
      },
      "source": [
        "from sklearn.svm import SVC\n",
        "classifier = SVC(kernel = 'rbf', random_state = 0)\n",
        "classifier.fit(x_train_scaled, y_train)"
      ],
      "execution_count": 434,
      "outputs": [
        {
          "output_type": "stream",
          "text": [
            "/usr/local/lib/python3.6/dist-packages/sklearn/utils/validation.py:760: DataConversionWarning: A column-vector y was passed when a 1d array was expected. Please change the shape of y to (n_samples, ), for example using ravel().\n",
            "  y = column_or_1d(y, warn=True)\n"
          ],
          "name": "stderr"
        },
        {
          "output_type": "execute_result",
          "data": {
            "text/plain": [
              "SVC(C=1.0, break_ties=False, cache_size=200, class_weight=None, coef0=0.0,\n",
              "    decision_function_shape='ovr', degree=3, gamma='scale', kernel='rbf',\n",
              "    max_iter=-1, probability=False, random_state=0, shrinking=True, tol=0.001,\n",
              "    verbose=False)"
            ]
          },
          "metadata": {
            "tags": []
          },
          "execution_count": 434
        }
      ]
    },
    {
      "cell_type": "markdown",
      "metadata": {
        "id": "zdpvDrGFs3Ef"
      },
      "source": [
        "### Making the Confusion Matrix"
      ]
    },
    {
      "cell_type": "code",
      "metadata": {
        "id": "pdO4n82Is3Ei"
      },
      "source": [
        "from sklearn.metrics import confusion_matrix, accuracy_score\n",
        "y_pred = classifier.predict(x_test_scaled)\n",
        "cm = confusion_matrix(y_test, y_pred)\n",
        "confusionMatrices.append(cm)"
      ],
      "execution_count": 435,
      "outputs": []
    },
    {
      "cell_type": "markdown",
      "metadata": {
        "id": "9FyVDgOrtG8h"
      },
      "source": [
        "### Evaluating the Model Performance"
      ]
    },
    {
      "cell_type": "code",
      "metadata": {
        "id": "wu8XGiBdtG8j"
      },
      "source": [
        "modelPerformance.append(accuracy_score(y_test, y_pred))"
      ],
      "execution_count": 436,
      "outputs": []
    },
    {
      "cell_type": "markdown",
      "metadata": {
        "id": "_ROcqqwdPo3H"
      },
      "source": [
        "## <font color='Purple'> ***Decision Tree Classification***"
      ]
    },
    {
      "cell_type": "markdown",
      "metadata": {
        "id": "Ysn6HpkHurkq"
      },
      "source": [
        "### Training the Decision Tree Classification model on the Training set"
      ]
    },
    {
      "cell_type": "code",
      "metadata": {
        "id": "aIb9AKE8urku",
        "colab": {
          "base_uri": "https://localhost:8080/"
        },
        "outputId": "c2f48e22-4baf-47c2-b58c-056331270c12"
      },
      "source": [
        "from sklearn.tree import DecisionTreeClassifier\n",
        "classifier = DecisionTreeClassifier(criterion = 'entropy', random_state = 0)\n",
        "classifier.fit(x_train_scaled, y_train)"
      ],
      "execution_count": 437,
      "outputs": [
        {
          "output_type": "execute_result",
          "data": {
            "text/plain": [
              "DecisionTreeClassifier(ccp_alpha=0.0, class_weight=None, criterion='entropy',\n",
              "                       max_depth=None, max_features=None, max_leaf_nodes=None,\n",
              "                       min_impurity_decrease=0.0, min_impurity_split=None,\n",
              "                       min_samples_leaf=1, min_samples_split=2,\n",
              "                       min_weight_fraction_leaf=0.0, presort='deprecated',\n",
              "                       random_state=0, splitter='best')"
            ]
          },
          "metadata": {
            "tags": []
          },
          "execution_count": 437
        }
      ]
    },
    {
      "cell_type": "markdown",
      "metadata": {
        "id": "se1oCdzOurky"
      },
      "source": [
        "### Making the Confusion Matrix"
      ]
    },
    {
      "cell_type": "code",
      "metadata": {
        "id": "U2_pOSWHurk1"
      },
      "source": [
        "from sklearn.metrics import confusion_matrix, accuracy_score\n",
        "y_pred = classifier.predict(x_test_scaled)\n",
        "cm = confusion_matrix(y_test, y_pred)\n",
        "confusionMatrices.append(cm)"
      ],
      "execution_count": 438,
      "outputs": []
    },
    {
      "cell_type": "markdown",
      "metadata": {
        "id": "2U-gm9i3u0PB"
      },
      "source": [
        "### Evaluating the Model Performance"
      ]
    },
    {
      "cell_type": "code",
      "metadata": {
        "id": "VDwdUjt-u0PE"
      },
      "source": [
        "modelPerformance.append(accuracy_score(y_test, y_pred))"
      ],
      "execution_count": 439,
      "outputs": []
    },
    {
      "cell_type": "markdown",
      "metadata": {
        "id": "pTeGzopCPpMZ"
      },
      "source": [
        "## <font color='Blue Flower'> ***Random Forest Classification***"
      ]
    },
    {
      "cell_type": "markdown",
      "metadata": {
        "id": "pyhjII96vMUa"
      },
      "source": [
        "### Training the Random Forest Classification model on the Training set"
      ]
    },
    {
      "cell_type": "code",
      "metadata": {
        "id": "Bd_Rwan_vMUf",
        "colab": {
          "base_uri": "https://localhost:8080/"
        },
        "outputId": "afadcb09-bd61-43d4-e4b4-fdf4e4b92e73"
      },
      "source": [
        "from sklearn.ensemble import RandomForestClassifier\n",
        "classifier = RandomForestClassifier(n_estimators = 10, criterion = 'entropy', random_state = 0)\n",
        "classifier.fit(x_train_scaled, y_train)"
      ],
      "execution_count": 440,
      "outputs": [
        {
          "output_type": "stream",
          "text": [
            "/usr/local/lib/python3.6/dist-packages/ipykernel_launcher.py:3: DataConversionWarning: A column-vector y was passed when a 1d array was expected. Please change the shape of y to (n_samples,), for example using ravel().\n",
            "  This is separate from the ipykernel package so we can avoid doing imports until\n"
          ],
          "name": "stderr"
        },
        {
          "output_type": "execute_result",
          "data": {
            "text/plain": [
              "RandomForestClassifier(bootstrap=True, ccp_alpha=0.0, class_weight=None,\n",
              "                       criterion='entropy', max_depth=None, max_features='auto',\n",
              "                       max_leaf_nodes=None, max_samples=None,\n",
              "                       min_impurity_decrease=0.0, min_impurity_split=None,\n",
              "                       min_samples_leaf=1, min_samples_split=2,\n",
              "                       min_weight_fraction_leaf=0.0, n_estimators=10,\n",
              "                       n_jobs=None, oob_score=False, random_state=0, verbose=0,\n",
              "                       warm_start=False)"
            ]
          },
          "metadata": {
            "tags": []
          },
          "execution_count": 440
        }
      ]
    },
    {
      "cell_type": "markdown",
      "metadata": {
        "id": "f86hAT-CvMUk"
      },
      "source": [
        "### Making the Confusion Matrix"
      ]
    },
    {
      "cell_type": "code",
      "metadata": {
        "id": "ICFPSYxxvMUp"
      },
      "source": [
        "from sklearn.metrics import confusion_matrix, accuracy_score\n",
        "y_pred = classifier.predict(x_test_scaled)\n",
        "cm = confusion_matrix(y_test, y_pred)\n",
        "confusionMatrices.append(cm)"
      ],
      "execution_count": 441,
      "outputs": []
    },
    {
      "cell_type": "markdown",
      "metadata": {
        "id": "HqPB_gc7vD5L"
      },
      "source": [
        "### Evaluating the Model Performance"
      ]
    },
    {
      "cell_type": "code",
      "metadata": {
        "id": "Xim6gP9gvD5N"
      },
      "source": [
        "modelPerformance.append(accuracy_score(y_test, y_pred))"
      ],
      "execution_count": 442,
      "outputs": []
    },
    {
      "cell_type": "markdown",
      "metadata": {
        "id": "wTImwaxUb8t9"
      },
      "source": [
        "# <font color='Magenta'> Analysing Model Performances \n",
        "\n",
        "---\n",
        "\n"
      ]
    },
    {
      "cell_type": "markdown",
      "metadata": {
        "id": "X-fc3dOacRnq"
      },
      "source": [
        "### Preparing Data Of Model Performances "
      ]
    },
    {
      "cell_type": "code",
      "metadata": {
        "colab": {
          "base_uri": "https://localhost:8080/"
        },
        "id": "7xm-vlq6flX3",
        "outputId": "46112a70-e809-4c16-b77f-e02127f5052a"
      },
      "source": [
        "np.set_printoptions(precision=2)\n",
        "xLables = ['Logistic','KNN','Support Vector','Naive Bays','Kernel SVM','Decision Tree','Random Forest']\n",
        "\n",
        "xCord = np.arange(0,1,0.15)\n",
        "yCord = np.array(modelPerformance)\n",
        "\n",
        "print(yCord)\n"
      ],
      "execution_count": 443,
      "outputs": [
        {
          "output_type": "stream",
          "text": [
            "[0.79 0.85 0.79 0.78 0.9  1.   1.  ]\n"
          ],
          "name": "stdout"
        }
      ]
    },
    {
      "cell_type": "markdown",
      "metadata": {
        "id": "xGBg2_ApCZnz"
      },
      "source": [
        "## Ploting Confusion Matrics"
      ]
    },
    {
      "cell_type": "code",
      "metadata": {
        "colab": {
          "base_uri": "https://localhost:8080/",
          "height": 1000
        },
        "id": "4foyZaiJDrGz",
        "outputId": "9e17a8a4-235a-4044-fd48-358ac5944563"
      },
      "source": [
        "for (cm,model) in zip(confusionMatrices,xLables) :\n",
        "  print(model,end=\" \")\n",
        "  plot_confusion_matrix(confusionMatrices[0],['Healthy', 'Patient'])\n",
        "  print(50*\"*\")"
      ],
      "execution_count": 444,
      "outputs": [
        {
          "output_type": "stream",
          "text": [
            "Logistic Confusion matrix, without normalization\n"
          ],
          "name": "stdout"
        },
        {
          "output_type": "display_data",
          "data": {
            "image/png": "[encoded data removed]",
            "text/plain": [
              "<Figure size 432x288 with 2 Axes>"
            ]
          },
          "metadata": {
            "tags": [],
            "needs_background": "light"
          }
        },
        {
          "output_type": "stream",
          "text": [
            "**************************************************\n",
            "KNN Confusion matrix, without normalization\n"
          ],
          "name": "stdout"
        },
        {
          "output_type": "display_data",
          "data": {
            "image/png": "[encoded data removed]",
            "text/plain": [
              "<Figure size 432x288 with 2 Axes>"
            ]
          },
          "metadata": {
            "tags": [],
            "needs_background": "light"
          }
        },
        {
          "output_type": "stream",
          "text": [
            "**************************************************\n",
            "Support Vector Confusion matrix, without normalization\n"
          ],
          "name": "stdout"
        },
        {
          "output_type": "display_data",
          "data": {
            "image/png": "[encoded data removed]",
            "text/plain": [
              "<Figure size 432x288 with 2 Axes>"
            ]
          },
          "metadata": {
            "tags": [],
            "needs_background": "light"
          }
        },
        {
          "output_type": "stream",
          "text": [
            "**************************************************\n",
            "Naive Bays Confusion matrix, without normalization\n"
          ],
          "name": "stdout"
        },
        {
          "output_type": "display_data",
          "data": {
            "image/png": "[encoded data removed]",
            "text/plain": [
              "<Figure size 432x288 with 2 Axes>"
            ]
          },
          "metadata": {
            "tags": [],
            "needs_background": "light"
          }
        },
        {
          "output_type": "stream",
          "text": [
            "**************************************************\n",
            "Kernel SVM Confusion matrix, without normalization\n"
          ],
          "name": "stdout"
        },
        {
          "output_type": "display_data",
          "data": {
            "image/png": "[encoded data removed]",
            "text/plain": [
              "<Figure size 432x288 with 2 Axes>"
            ]
          },
          "metadata": {
            "tags": [],
            "needs_background": "light"
          }
        },
        {
          "output_type": "stream",
          "text": [
            "**************************************************\n",
            "Decision Tree Confusion matrix, without normalization\n"
          ],
          "name": "stdout"
        },
        {
          "output_type": "display_data",
          "data": {
            "image/png": "[encoded data removed]",
            "text/plain": [
              "<Figure size 432x288 with 2 Axes>"
            ]
          },
          "metadata": {
            "tags": [],
            "needs_background": "light"
          }
        },
        {
          "output_type": "stream",
          "text": [
            "**************************************************\n",
            "Random Forest Confusion matrix, without normalization\n"
          ],
          "name": "stdout"
        },
        {
          "output_type": "display_data",
          "data": {
            "image/png": "[encoded data removed]",
            "text/plain": [
              "<Figure size 432x288 with 2 Axes>"
            ]
          },
          "metadata": {
            "tags": [],
            "needs_background": "light"
          }
        },
        {
          "output_type": "stream",
          "text": [
            "**************************************************\n"
          ],
          "name": "stdout"
        },
        {
          "output_type": "display_data",
          "data": {
            "image/png": "[encoded data removed]",
            "text/plain": [
              "<Figure size 432x288 with 1 Axes>"
            ]
          },
          "metadata": {
            "tags": [],
            "needs_background": "light"
          }
        }
      ]
    },
    {
      "cell_type": "markdown",
      "metadata": {
        "id": "cm1-yNGycJJF"
      },
      "source": [
        "## Ploting Graph Of All Model Performances "
      ]
    },
    {
      "cell_type": "markdown",
      "metadata": {
        "id": "foPXyGOYx8nn"
      },
      "source": [
        "### Ploting Simple Trade Line Graph"
      ]
    },
    {
      "cell_type": "code",
      "metadata": {
        "colab": {
          "base_uri": "https://localhost:8080/",
          "height": 315
        },
        "id": "1DzUq9lweQrH",
        "outputId": "d624f82a-c39f-4c79-9a45-ca10d0415dc3"
      },
      "source": [
        "# Ploting a trade simple line graph which shows the change from one model to another model\n",
        "for i in range(1,7) :\n",
        "  xPoint = [xCord[i-1],xCord[i]]\n",
        "  yPoint = [yCord[i-1],yCord[i]]\n",
        "  plt.plot(xPoint,yPoint,marker='o') \n",
        "# plt.legend([xLables])\n",
        "\n",
        "plt.xticks(xCord,xLables)\n",
        "plt.xticks(rotation=45, ha=\"right\")\n",
        "\n",
        "plt.show()"
      ],
      "execution_count": 445,
      "outputs": [
        {
          "output_type": "display_data",
          "data": {
            "image/png": "[encoded data removed]",
            "text/plain": [
              "<Figure size 432x288 with 1 Axes>"
            ]
          },
          "metadata": {
            "tags": [],
            "needs_background": "light"
          }
        }
      ]
    },
    {
      "cell_type": "markdown",
      "metadata": {
        "id": "VpydfhZ7ySq8"
      },
      "source": [
        "### Ploting Simple Bar Chard "
      ]
    },
    {
      "cell_type": "code",
      "metadata": {
        "colab": {
          "base_uri": "https://localhost:8080/",
          "height": 345
        },
        "id": "aaBB3odUhNqn",
        "outputId": "4593b6e8-4c72-4520-9c4f-8052aa269084"
      },
      "source": [
        "width = 0.1\n",
        "plt.xticks(xCord,xLables)\n",
        "plt.xticks(rotation=45, ha=\"right\")\n",
        "\n",
        "plt.bar(xCord,yCord, width)\n",
        "plt.title('Model Proficiency')\n",
        "plt.xlabel('Model')\n",
        "plt.ylabel('Model Performance')\n",
        "\n",
        "plt.show()"
      ],
      "execution_count": 446,
      "outputs": [
        {
          "output_type": "display_data",
          "data": {
            "image/png": "[encoded data removed]",
            "text/plain": [
              "<Figure size 432x288 with 1 Axes>"
            ]
          },
          "metadata": {
            "tags": [],
            "needs_background": "light"
          }
        }
      ]
    },
    {
      "cell_type": "code",
      "metadata": {
        "id": "gqRj-xfZru18"
      },
      "source": [
        ""
      ],
      "execution_count": 446,
      "outputs": []
    }
  ]
}